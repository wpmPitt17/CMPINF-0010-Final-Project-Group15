{
 "cells": [
  {
   "cell_type": "markdown",
   "id": "d5063eb5-5a65-47f5-8e09-613474f916bf",
   "metadata": {},
   "source": [
    "INTRO PLAYGROUND DATA \n",
    "For my data set I chose playgrounds because whichever neiborhood had the most amount of playgrounds could imply that its the safest neiborhood for children. My first code cell is plotting the bar graph of the top 10 neighborhoods with the most playgrounds using the Matplotlib library. My second code cell is a chart of the top 20 neighborhoods with the most playgrounds, but in descending order."
   ]
  },
  {
   "cell_type": "code",
   "execution_count": 8,
   "id": "3c0148f4-4092-4b40-812d-afcd18093a7e",
   "metadata": {},
   "outputs": [
    {
     "data": {
      "text/plain": [
       "([0, 1, 2, 3, 4, 5, 6, 7, 8, 9],\n",
       " [Text(0, 0, 'Squirrel Hill South'),\n",
       "  Text(1, 0, 'Beechview'),\n",
       "  Text(2, 0, 'South Side Slopes'),\n",
       "  Text(3, 0, 'Allegheny Center'),\n",
       "  Text(4, 0, 'Highland Park'),\n",
       "  Text(5, 0, 'Sheraden'),\n",
       "  Text(6, 0, 'Beltzhoover'),\n",
       "  Text(7, 0, 'Crawford-Roberts'),\n",
       "  Text(8, 0, 'Hazelwood'),\n",
       "  Text(9, 0, 'East Liberty')])"
      ]
     },
     "execution_count": 8,
     "metadata": {},
     "output_type": "execute_result"
    },
    {
     "data": {
      "image/png": "[encoded data removed]",
      "text/plain": [
       "<Figure size 640x480 with 1 Axes>"
      ]
     },
     "metadata": {},
     "output_type": "display_data"
    }
   ],
   "source": [
    "import pandas as pd\n",
    "import matplotlib.pyplot as plt\n",
    "import operator\n",
    "\n",
    "# Read the CSV file into a DataFrame\n",
    "pg = pd.read_csv(\"playgrounds.csv\")\n",
    "\n",
    "neighborhood = {}\n",
    "\n",
    "for index, row in pg.iterrows():\n",
    "    \n",
    "    if row[\"neighborhood\"] in neighborhood:\n",
    "        neighborhood[row[\"neighborhood\"]] += 1\n",
    "    else:\n",
    "        neighborhood[row[\"neighborhood\"]] = 1\n",
    "        \n",
    "\n",
    "\n",
    "highest = dict(sorted(neighborhood.items(), key=operator.itemgetter(1), reverse=True))\n",
    "\n",
    "\n",
    "plt.bar(list(highest.keys())[:10], list(highest.values())[:10])\n",
    "plt.xticks(rotation=90)\n",
    "# # # Assuming you need to process the data to calculate Employment percentage\n",
    "# empy['neighborhood'] = empy['neighborhood']\n",
    "\n",
    "\n",
    "# # # Create a bar plot\n",
    "# empy[['Population', 'Employment']].plot.bar(figsize=(10, 6))\n",
    "# plt.xlabel('Neighborhood')\n",
    "# plt.ylabel('Count/Parks')\n",
    "# plt.title('Population and Employment Data by Neighborhood')\n",
    "# plt.xticks(rotation=45)  # Rotate x-axis labels for better readability\n",
    "# plt.legend([\"Population\", \"Employment\"])\n",
    "# plt.tight_layout()\n",
    "# plt.show()"
   ]
  },
  {
   "cell_type": "code",
   "execution_count": null,
   "id": "732def39-82ff-490c-991e-5bfad8fe2ce6",
   "metadata": {},
   "outputs": [],
   "source": []
  },
  {
   "cell_type": "code",
   "execution_count": null,
   "id": "3e202630-da3e-4100-af90-b725161cddf4",
   "metadata": {},
   "outputs": [],
   "source": []
  },
  {
   "cell_type": "code",
   "execution_count": null,
   "id": "8e91211b-4424-4c77-9f23-67ca9453ad6c",
   "metadata": {},
   "outputs": [],
   "source": []
  },
  {
   "cell_type": "code",
   "execution_count": null,
   "id": "cf89f02f-747a-43cf-9f7e-072b9fc56f75",
   "metadata": {},
   "outputs": [],
   "source": []
  },
  {
   "cell_type": "code",
   "execution_count": null,
   "id": "ee7a1c62-f51d-4ade-a979-51ad1070a490",
   "metadata": {},
   "outputs": [],
   "source": []
  },
  {
   "cell_type": "code",
   "execution_count": 59,
   "id": "010352e7-6f75-408c-8542-9d7a604c5620",
   "metadata": {},
   "outputs": [
    {
     "name": "stdout",
     "output_type": "stream",
     "text": [
      "╒════╤═════════════════════╤═════════════════════╕\n",
      "│    │ Neighborhood        │   Playgrounds Count │\n",
      "╞════╪═════════════════════╪═════════════════════╡\n",
      "│  0 │ Squirrel Hill South │                   8 │\n",
      "├────┼─────────────────────┼─────────────────────┤\n",
      "│  1 │ Beechview           │                   5 │\n",
      "├────┼─────────────────────┼─────────────────────┤\n",
      "│  2 │ South Side Slopes   │                   5 │\n",
      "├────┼─────────────────────┼─────────────────────┤\n",
      "│  3 │ Highland Park       │                   4 │\n",
      "├────┼─────────────────────┼─────────────────────┤\n",
      "│  4 │ Sheraden            │                   4 │\n",
      "├────┼─────────────────────┼─────────────────────┤\n",
      "│  5 │ Beltzhoover         │                   4 │\n",
      "├────┼─────────────────────┼─────────────────────┤\n",
      "│  6 │ Allegheny Center    │                   4 │\n",
      "├────┼─────────────────────┼─────────────────────┤\n",
      "│  7 │ Carrick             │                   3 │\n",
      "├────┼─────────────────────┼─────────────────────┤\n",
      "│  8 │ Mount Washington    │                   3 │\n",
      "├────┼─────────────────────┼─────────────────────┤\n",
      "│  9 │ Elliott             │                   3 │\n",
      "├────┼─────────────────────┼─────────────────────┤\n",
      "│ 10 │ South Oakland       │                   3 │\n",
      "├────┼─────────────────────┼─────────────────────┤\n",
      "│ 11 │ Hazelwood           │                   3 │\n",
      "├────┼─────────────────────┼─────────────────────┤\n",
      "│ 12 │ Crawford-Roberts    │                   3 │\n",
      "├────┼─────────────────────┼─────────────────────┤\n",
      "│ 13 │ Upper Lawrenceville │                   3 │\n",
      "├────┼─────────────────────┼─────────────────────┤\n",
      "│ 14 │ East Liberty        │                   3 │\n",
      "├────┼─────────────────────┼─────────────────────┤\n",
      "│ 15 │ Morningside         │                   2 │\n",
      "├────┼─────────────────────┼─────────────────────┤\n",
      "│ 16 │ Lincoln Place       │                   2 │\n",
      "├────┼─────────────────────┼─────────────────────┤\n",
      "│ 17 │ Greenfield          │                   2 │\n",
      "├────┼─────────────────────┼─────────────────────┤\n",
      "│ 18 │ Garfield            │                   2 │\n",
      "├────┼─────────────────────┼─────────────────────┤\n",
      "│ 19 │ Manchester          │                   2 │\n",
      "╘════╧═════════════════════╧═════════════════════╛\n"
     ]
    }
   ],
   "source": [
    "import pandas as pd\n",
    "from tabulate import tabulate\n",
    "\n",
    "# Load your dataset (replace 'your_playground_dataset.csv' with the actual file path)\n",
    "playground_data = pd.read_csv(\"playgrounds.csv\")\n",
    "\n",
    "playgrounds_per_neighborhood = playground_data['neighborhood'].value_counts()\n",
    "\n",
    "# DataFrame for better formatting\n",
    "playgrounds_table = pd.DataFrame({'Neighborhood': playgrounds_per_neighborhood.index, 'Playgrounds Count': playgrounds_per_neighborhood.values})\n",
    "\n",
    "# Print the formatted table for the top 20 rows\n",
    "print(tabulate(playgrounds_table.head(20), headers='keys', tablefmt='fancy_grid'))"
   ]
  },
  {
   "cell_type": "markdown",
   "id": "58c61b9f-c23f-421a-b587-9980df2fafb0",
   "metadata": {},
   "source": [
    "CONCLUSION"
   ]
  },
  {
   "cell_type": "markdown",
   "id": "da09884a-8378-4fbc-b343-69f28013b1a0",
   "metadata": {},
   "source": [
    "Overall, the analysis of neighborhood playground distribution using the Pandas and Matplotlib libraries in the given code yields interesting results. By inspecting the DataFrame and utilizing a systematic counting approach, the algorithm generates a sorted list of neighborhoods based on their playground numbers. The following graphic, a Matplotlib-generated bar plot, depicts the top ten neighborhoods with the highest playground counts.Based on the graph and table visual representations, as well as the underlying statistics, it is clear that Beechview, Squirrel Hill, and South Slopes are the key neighborhoods with the most extensive and vibrant playgrounds. This conclusion is firmly based on the availability and diversity of recreational spaces, which make these neighborhoods leaders in promoting community well-being through accessible and varied play areas."
   ]
  }
 ],
 "metadata": {
  "kernelspec": {
   "display_name": "Python 3 (ipykernel)",
   "language": "python",
   "name": "python3"
  },
  "language_info": {
   "codemirror_mode": {
    "name": "ipython",
    "version": 3
   },
   "file_extension": ".py",
   "mimetype": "text/x-python",
   "name": "python",
   "nbconvert_exporter": "python",
   "pygments_lexer": "ipython3",
   "version": "3.12.4"
  }
 },
 "nbformat": 4,
 "nbformat_minor": 5
}
