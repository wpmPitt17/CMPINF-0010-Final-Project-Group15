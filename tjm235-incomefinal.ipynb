{
 "cells": [
  {
   "cell_type": "code",
   "execution_count": 29,
   "id": "709fe8f1-af85-45cb-a45d-a46e4fbbb609",
   "metadata": {},
   "outputs": [
    {
     "name": "stdout",
     "output_type": "stream",
     "text": [
      "           Neighborhood  Estimate; Total:\n",
      "68            Shadyside            7484.0\n",
      "77  Squirrel Hill South            7211.0\n",
      "13            Brookline            5843.0\n",
      "9            Bloomfield            4571.0\n",
      "53     Mount Washington            4385.0\n",
      "15              Carrick            4301.0\n",
      "7             Beechview            3567.0\n",
      "36           Greenfield            3438.0\n",
      "76  Squirrel Hill North            3370.0\n",
      "72     South Side Flats            3311.0\n"
     ]
    }
   ],
   "source": [
    "\n",
    "import pandas as pd\n",
    "\n",
    "# Load the CSV file\n",
    "file = 'wage-or-salary-income-in-the-past-12-months-for-households.csv' \n",
    "data = pd.read_csv(file)\n",
    "\n",
    "\n",
    "best = (data[['Neighborhood', 'Estimate; Total:']].sort_values(by='Estimate; Total:', ascending=False).head(10))\n",
    "\n",
    "# Print the top 10 neighborhoods\n",
    "print(best)\n"
   ]
  },
  {
   "cell_type": "code",
   "execution_count": null,
   "id": "e34ebd28-daad-4891-b902-d4bf902eb701",
   "metadata": {},
   "outputs": [],
   "source": []
  },
  {
   "cell_type": "code",
   "execution_count": null,
   "id": "b4a1c9dd-0ead-407b-b357-cbf153173eb4",
   "metadata": {},
   "outputs": [],
   "source": []
  }
 ],
 "metadata": {
  "kernelspec": {
   "display_name": "Python 3 (ipykernel)",
   "language": "python",
   "name": "python3"
  },
  "language_info": {
   "codemirror_mode": {
    "name": "ipython",
    "version": 3
   },
   "file_extension": ".py",
   "mimetype": "text/x-python",
   "name": "python",
   "nbconvert_exporter": "python",
   "pygments_lexer": "ipython3",
   "version": "3.12.4"
  }
 },
 "nbformat": 4,
 "nbformat_minor": 5
}
