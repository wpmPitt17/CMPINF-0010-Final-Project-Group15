{
 "cells": [
  {
   "cell_type": "markdown",
   "id": "be968c51-0022-43de-b73a-df4ee296f7bb",
   "metadata": {},
   "source": [
    "# The Best Neighborhood in Pittsburgh\n",
    "### What is it the best at?\n",
    "\n",
    "#### Group:15\n",
    "#### Wyatt McMullen, James Bigomero, Tanner Miklos"
   ]
  },
  {
   "cell_type": "markdown",
   "id": "ca5bbae5-a1f8-4a4a-9627-21c764a019f2",
   "metadata": {},
   "source": [
    "## Intro"
   ]
  },
  {
   "cell_type": "markdown",
   "id": "f2aa0e7e-7afe-4c50-8952-0006e23afc03",
   "metadata": {},
   "source": [
    "Hello"
   ]
  }
 ],
 "metadata": {
  "kernelspec": {
   "display_name": "Python 3 (ipykernel)",
   "language": "python",
   "name": "python3"
  },
  "language_info": {
   "codemirror_mode": {
    "name": "ipython",
    "version": 3
   },
   "file_extension": ".py",
   "mimetype": "text/x-python",
   "name": "python",
   "nbconvert_exporter": "python",
   "pygments_lexer": "ipython3",
   "version": "3.12.4"
  }
 },
 "nbformat": 4,
 "nbformat_minor": 5
}
