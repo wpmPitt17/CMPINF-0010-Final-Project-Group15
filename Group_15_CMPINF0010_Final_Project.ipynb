{
 "cells": [
  {
   "cell_type": "markdown",
   "id": "be968c51-0022-43de-b73a-df4ee296f7bb",
   "metadata": {},
   "source": [
    "# The Best Neighborhood in Pittsburgh\n",
    "### What is it the best at?\n",
    "\n",
    "#### Group:15\n",
    "#### Wyatt McMullen, James Bigomero, Tanner Miklos"
   ]
  },
  {
   "cell_type": "markdown",
   "id": "ca5bbae5-a1f8-4a4a-9627-21c764a019f2",
   "metadata": {},
   "source": [
    "## Intro\n",
    "\n",
    "A neighborhood is for each individual a home, and therefore what makes a better metric than what a home embodies, a place of solace to rest and relax. Our group decided to approach this question with the idea that the best neighborhood in Pittsburgh is the most relaxing or least stressful neighborhood in the city. \n",
    "\n",
    "This could realistically mean any number of things as stress is a very broad idea. We decided to primarily look at indicators of less stressfull life rather than trying to define what wholely contributes to less stress itself. Some of our initial ideas were more related to how much stress a neighborhood contributed, such as amount of traffic or \n",
    "\n"
   ]
  },
  {
   "cell_type": "markdown",
   "id": "f2aa0e7e-7afe-4c50-8952-0006e23afc03",
   "metadata": {},
   "source": [
    "## Our Metric(s)"
   ]
  },
  {
   "cell_type": "markdown",
   "id": "6faa8c0b-7f06-46fc-8dc8-0db340ddedb8",
   "metadata": {},
   "source": [
    "So what goes into being the least stressful?\n",
    "\n",
    "Our metrics are a combination of attributes of the neighborhood that could better contribute to alleviating stress and indicators from those within the community that may correlate with higher stress levels."
   ]
  },
  {
   "cell_type": "markdown",
   "id": "373c8afa-67b6-47f9-8db3-acd169234c1c",
   "metadata": {},
   "source": [
    "## Conclusions"
   ]
  },
  {
   "cell_type": "markdown",
   "id": "90f03d51-7410-4fac-a3c5-2b5f1d8ec19b",
   "metadata": {},
   "source": []
  }
 ],
 "metadata": {
  "kernelspec": {
   "display_name": "Python 3 (ipykernel)",
   "language": "python",
   "name": "python3"
  },
  "language_info": {
   "codemirror_mode": {
    "name": "ipython",
    "version": 3
   },
   "file_extension": ".py",
   "mimetype": "text/x-python",
   "name": "python",
   "nbconvert_exporter": "python",
   "pygments_lexer": "ipython3",
   "version": "3.12.4"
  }
 },
 "nbformat": 4,
 "nbformat_minor": 5
}
